{
 "metadata": {
  "name": "",
  "signature": "sha256:bd2f1b9f6d3133f126813eee97356d334494070b78dcfbb6512add59bf45aefd"
 },
 "nbformat": 3,
 "nbformat_minor": 0,
 "worksheets": [
  {
   "cells": [
    {
     "cell_type": "code",
     "collapsed": false,
     "input": [
      "import numpy as np\n",
      "import pandas as pd\n",
      "import matplotlib.pyplot as plt"
     ],
     "language": "python",
     "metadata": {},
     "outputs": [],
     "prompt_number": 1
    },
    {
     "cell_type": "code",
     "collapsed": false,
     "input": [
      "import json\n",
      "db = json.load(open('json/5yo_startups.json'))"
     ],
     "language": "python",
     "metadata": {},
     "outputs": [],
     "prompt_number": 2
    },
    {
     "cell_type": "code",
     "collapsed": false,
     "input": [
      "info_keys = [u'business_models', u'est_founding_date', u'employee_count', u'funding', u'id', u'industries', u'location', u'name', u'stage', u'stories', u'website']\n",
      "df = pd.DataFrame(db, columns=info_keys)"
     ],
     "language": "python",
     "metadata": {},
     "outputs": [],
     "prompt_number": 3
    },
    {
     "cell_type": "code",
     "collapsed": false,
     "input": [
      "from datetime import datetime\n",
      "series_A_funding_date = []\n",
      "indices_to_drop = []\n",
      "\n",
      "for i, startup in df.iterrows():\n",
      "    if startup.stage != 'Pre Series A':\n",
      "        funding_rounds = dict([(x['series'].lower(), x['funding_date']) for x in startup.funding])\n",
      "        if 'a' in funding_rounds:\n",
      "            funding_date = funding_rounds['a']\n",
      "        elif 'b' in funding_rounds:\n",
      "            funding_date = funding_rounds['b']\n",
      "        elif 'c' in funding_rounds:\n",
      "            funding_date = funding_rounds['c']\n",
      "        elif 'd' in funding_rounds:\n",
      "            funding_date = funding_rounds['d']\n",
      "        elif 'late' in funding_rounds:\n",
      "            funding_date = funding_rounds['late']\n",
      "        else:\n",
      "            indices_to_drop.append(i)\n",
      "            series_A_funding_date.append(None)\n",
      "            continue\n",
      "        series_A_funding_date.append(funding_date)\n",
      "        \n",
      "    else:\n",
      "        series_A_funding_date.append(None)\n",
      "\n",
      "df['series_A_funding_date'] = series_A_funding_date"
     ],
     "language": "python",
     "metadata": {},
     "outputs": [],
     "prompt_number": 4
    },
    {
     "cell_type": "code",
     "collapsed": false,
     "input": [
      "# Count pre series-A funding, angel funding, and expansion rate\n",
      "pre_series_A_funding = np.zeros((len(db), 1))\n",
      "angel_funding = np.zeros((len(db), 1))\n",
      "expansion_rate = np.zeros((len(db), 1))\n",
      "\n",
      "for i, startup in enumerate(db):\n",
      "    series_A_funding_date = df.iloc[i, -1]\n",
      "    _pre_series_A_funding = 0\n",
      "    _angel_funding = 0\n",
      "    if len(startup[u'funding']) > 0:\n",
      "        for x in startup[u'funding']:\n",
      "            if x[u'series'] == u'angel' and x[u'currency'] == u'USD':\n",
      "                _angel_funding += int(x[u'amount'])\n",
      "            \n",
      "            if x[u'series'] in [u'angel', u'seed'] and x[u'currency'] == u'USD':\n",
      "                _pre_series_A_funding += int(x[u'amount'])\n",
      "                continue\n",
      "            \n",
      "            if series_A_funding_date and x[u'funding_date'] and ((pd.to_datetime(series_A_funding_date) - pd.to_datetime(x[u'funding_date'])).days > 0) and x[u'currency'] == u'USD':\n",
      "                _pre_series_A_funding += int(x[u'amount'])\n",
      "    \n",
      "    pre_series_A_funding[i] = _pre_series_A_funding\n",
      "    angel_funding[i] = _angel_funding\n",
      "    \n",
      "    if startup.has_key(u'employee_count') and startup.has_key(u'est_founding_date'):\n",
      "        if (len(startup[u'employee_count']) > 0) and startup[u'est_founding_date']:\n",
      "            age = (pd.to_datetime(datetime(2015, 1, 1)) - pd.to_datetime(startup[u'est_founding_date'])).days\n",
      "            \n",
      "            if series_A_funding_date and startup[u'est_founding_date']:\n",
      "                _expansion_rate = None\n",
      "                for x in startup[u'employee_count']:\n",
      "                    if (pd.to_datetime(x['recorded_at']) - pd.to_datetime(series_A_funding_date)).days >= 0:\n",
      "                        continue\n",
      "                    else:\n",
      "                        if (pd.to_datetime(x['recorded_at']) - pd.to_datetime(startup[u'est_founding_date'])).days > 0:\n",
      "                            _expansion_rate = float(x[u'score']) / (pd.to_datetime(x['recorded_at']) - pd.to_datetime(startup[u'est_founding_date'])).days\n",
      "                            break\n",
      "        \n",
      "                if _expansion_rate:\n",
      "                    expansion_rate[i] = _expansion_rate\n",
      "                else:\n",
      "                    expansion_rate[i] = float(startup[u'employee_count'][0][u'score']) / age\n",
      "                    \n",
      "            else:\n",
      "                expansion_rate[i] = float(startup[u'employee_count'][0][u'score']) / age\n",
      "\n",
      "df[u'pre-series-A funding'] = pre_series_A_funding\n",
      "df[u'angel funding'] = angel_funding\n",
      "df[u'expansion rate'] = expansion_rate"
     ],
     "language": "python",
     "metadata": {},
     "outputs": [],
     "prompt_number": 5
    },
    {
     "cell_type": "code",
     "collapsed": false,
     "input": [
      "matplotlib inline"
     ],
     "language": "python",
     "metadata": {},
     "outputs": [],
     "prompt_number": 6
    },
    {
     "cell_type": "code",
     "collapsed": false,
     "input": [
      "days_to_series_A = []\n",
      "for index, startup in df.iterrows():\n",
      "    if startup['series_A_funding_date'] and startup['est_founding_date']:\n",
      "        d = (pd.to_datetime(startup['series_A_funding_date']) - pd.to_datetime(startup['est_founding_date'])).days\n",
      "        if d > 0:\n",
      "            days_to_series_A.append(d)\n",
      "\n",
      "days_to_series_A = np.array(days_to_series_A)\n",
      "print days_to_series_A\n",
      "print np.mean(days_to_series_A)\n",
      "print np.median(days_to_series_A)\n",
      "\n",
      "plt.style.use('fivethirtyeight')\n",
      "plt.hist(days_to_series_A, histtype=\"stepfilled\", bins=12, alpha=0.8)\n",
      "plt.xlabel('Days to series A')\n",
      "plt.ylabel('# startups')\n",
      "plt.savefig('days_to_series_A.png', dpi=400, bbox_inches='tight')"
     ],
     "language": "python",
     "metadata": {},
     "outputs": [
      {
       "output_type": "stream",
       "stream": "stdout",
       "text": [
        "[263 688 651 ..., 300 644 681]\n",
        "658.010701546\n",
        "626.5\n"
       ]
      },
      {
       "metadata": {},
       "output_type": "display_data",
       "png": "[encoded data removed]",
       "text": [
        "<matplotlib.figure.Figure at 0x32baa3290>"
       ]
      }
     ],
     "prompt_number": 7
    },
    {
     "cell_type": "code",
     "collapsed": false,
     "input": [
      "# Create dummy variables for business models\n",
      "business_model_iter = (set(x) for x in df.business_models)\n",
      "business_models = sorted(set.union(*business_model_iter))\n",
      "if u'' in business_models:\n",
      "    business_models.remove(u'')\n",
      "business_models.remove('marketplace')\n",
      "\n",
      "business_model_dummies = pd.DataFrame(np.zeros((len(df), len(business_models))), columns=business_models)\n",
      "for i, x in enumerate(df.business_models):\n",
      "    if u'' not in x:\n",
      "        business_model_dummies.ix[i, map(lambda x: 'Marketplace' if x == 'marketplace' else x, x)] = 1"
     ],
     "language": "python",
     "metadata": {},
     "outputs": [],
     "prompt_number": 8
    },
    {
     "cell_type": "code",
     "collapsed": false,
     "input": [
      "# Create dummy variables for industries\n",
      "to_lower = lambda x: x.lower()\n",
      "stripper = lambda x: 'drones' if x == 'drones ' else x\n",
      "\n",
      "industry_iter = (set(map(to_lower, x)) for x in df.industries)\n",
      "industries = sorted(set.union(*industry_iter))\n",
      "if u'' in industries:\n",
      "    industries.remove(u'')\n",
      "industries.remove(u'drones ')\n",
      "    \n",
      "industry_dummies = pd.DataFrame(np.zeros((len(df), len(industries))), columns=industries)\n",
      "for i, x in enumerate(df.industries):\n",
      "    if u'' not in x:\n",
      "        industry_dummies.ix[i, map(stripper, map(to_lower, x))] = 1"
     ],
     "language": "python",
     "metadata": {},
     "outputs": [],
     "prompt_number": 9
    },
    {
     "cell_type": "code",
     "collapsed": false,
     "input": [
      "# Create dummy variables for Bay Area and New York\n",
      "locations = ['bay area', 'new york']\n",
      "location_dummies = pd.DataFrame(np.zeros((len(df), len(locations))), columns=locations)\n",
      "for i, x in enumerate(df.location):\n",
      "    x_lower = to_lower(x)\n",
      "    if x_lower in locations:\n",
      "        location_dummies.ix[i, x_lower] = 1"
     ],
     "language": "python",
     "metadata": {},
     "outputs": [],
     "prompt_number": 10
    },
    {
     "cell_type": "code",
     "collapsed": false,
     "input": [
      "startups = df.join([business_model_dummies, industry_dummies, location_dummies])"
     ],
     "language": "python",
     "metadata": {},
     "outputs": [],
     "prompt_number": 11
    },
    {
     "cell_type": "code",
     "collapsed": false,
     "input": [
      "startups.to_csv('5yo_startups_cleaned.csv', sep=',', encoding='utf-8', index=False)"
     ],
     "language": "python",
     "metadata": {},
     "outputs": [],
     "prompt_number": 12
    },
    {
     "cell_type": "code",
     "collapsed": false,
     "input": [],
     "language": "python",
     "metadata": {},
     "outputs": [],
     "prompt_number": 12
    }
   ],
   "metadata": {}
  }
 ]
}